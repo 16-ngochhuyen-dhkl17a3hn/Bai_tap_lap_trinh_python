{
 "cells": [
  {
   "cell_type": "code",
   "execution_count": 1,
   "metadata": {},
   "outputs": [
    {
     "name": "stdout",
     "output_type": "stream",
     "text": [
      "Nhiet do hang ngay trong thang:  [17.52 26.56 22.9  33.41 33.19 29.73 34.86 15.5  31.43 25.48 18.57 26.36\n",
      " 24.27 32.78 15.19 19.77 19.42 29.94 28.49 24.4  25.87 34.95 25.13 21.16\n",
      " 24.98 18.04 29.67 28.93 33.55 28.39]\n",
      "Nhiet do trung binh trong thang:  26.01466666666666\n"
     ]
    }
   ],
   "source": [
    "#1\n",
    "import numpy as np \n",
    "np.random\n",
    "nhiet_do=np.round(np.random.uniform(15, 35, 30), 2)\n",
    "nhiet_do_trung_binh=np.mean(nhiet_do)\n",
    "print(\"Nhiet do hang ngay trong thang: \", nhiet_do)\n",
    "print(\"Nhiet do trung binh trong thang: \", nhiet_do_trung_binh)"
   ]
  },
  {
   "cell_type": "code",
   "execution_count": 8,
   "metadata": {},
   "outputs": [
    {
     "name": "stdout",
     "output_type": "stream",
     "text": [
      "Nhiệt độ ngày cao nhất trong tháng là: 32.5\n",
      "Nhiệt độ ngày thấp nhất trong tháng là: 24.8\n",
      "Ngày có nhiệt độ cao nhất trong tháng là: 9\n",
      "Ngày có nhiệt độ thấp nhất trong tháng là: 5\n",
      "Chênh lệch nhiệt độ cao nhất là: -3.3999999999999986\n",
      "Ngày có chênh lệch cao nhất: 4\n"
     ]
    }
   ],
   "source": [
    "#2\n",
    "import numpy as np\n",
    "\n",
    "nhiet_do = np.array([25.1, 27.3, 30.5, 28.2, 24.8, 26.4, 29.0, 31.2, 32.5, 30.0, 28.6, 27.0])\n",
    "\n",
    "max_temp = np.max(nhiet_do)\n",
    "min_temp = np.min(nhiet_do)\n",
    "day_max_temp = np.argmax(nhiet_do) + 1\n",
    "day_min_temp = np.argmin(nhiet_do) + 1\n",
    "\n",
    "print(f'Nhiệt độ ngày cao nhất trong tháng là: {max_temp}')\n",
    "print(f'Nhiệt độ ngày thấp nhất trong tháng là: {min_temp}')\n",
    "print(f'Ngày có nhiệt độ cao nhất trong tháng là: {day_max_temp}')\n",
    "print(f'Ngày có nhiệt độ thấp nhất trong tháng là: {day_min_temp}')\n",
    "\n",
    "ngay_truoc = nhiet_do[:-1]\n",
    "ngay_sau = nhiet_do[1:]\n",
    "chenh_lech = ngay_sau - ngay_truoc\n",
    "\n",
    "dff_max = np.argmax(np.abs(chenh_lech)) + 1  \n",
    "max_chenh_lech = chenh_lech[dff_max - 1]\n",
    "\n",
    "print('Chênh lệch nhiệt độ cao nhất là:', max_chenh_lech)\n",
    "print('Ngày có chênh lệch cao nhất:', dff_max)\n"
   ]
  },
  {
   "cell_type": "code",
   "execution_count": 11,
   "metadata": {},
   "outputs": [
    {
     "name": "stdout",
     "output_type": "stream",
     "text": [
      "Nhiet do hon 20 do C: [25.1 27.3 30.5 28.2 24.8 26.4 29.  31.2 32.5 30.  28.6 27. ]\n",
      "Nhiet do cac ngay [5, 10]: [24.8 30. ]\n",
      "Nhung ngay co nhiet do tren trung binh: [ 2  3  4  6  7  8  9 10 11 12]\n",
      "Nhiet do tren trung binh: [27.3 30.5 28.2 26.4 29.  31.2 32.5 30.  28.6 27. ]\n"
     ]
    }
   ],
   "source": [
    "#3\n",
    "import numpy as np\n",
    "\n",
    "nhiet_do_hon_20 = nhiet_do[nhiet_do > 20]\n",
    "\n",
    "cac_ngay = [5, 10, 15, 20, 25]\n",
    "cac_ngay_hop_le = [ngay for ngay in cac_ngay if ngay <= len(nhiet_do)]\n",
    "nhiet_do_cac_ngay = nhiet_do[np.array(cac_ngay_hop_le) - 1]\n",
    "\n",
    "ngay_tren_trung_binh = np.where(nhiet_do > nhiet_do_trung_binh)[0] + 1\n",
    "nhiet_do_tren_trung_binh = nhiet_do[nhiet_do > nhiet_do_trung_binh]\n",
    "\n",
    "print(\"Nhiet do hon 20 do C:\", nhiet_do_hon_20)\n",
    "print(f\"Nhiet do cac ngay {cac_ngay_hop_le}:\", nhiet_do_cac_ngay)\n",
    "print(\"Nhung ngay co nhiet do tren trung binh:\", ngay_tren_trung_binh)\n",
    "print(\"Nhiet do tren trung binh:\", nhiet_do_tren_trung_binh)\n"
   ]
  }
 ],
 "metadata": {
  "kernelspec": {
   "display_name": "Python 3",
   "language": "python",
   "name": "python3"
  },
  "language_info": {
   "codemirror_mode": {
    "name": "ipython",
    "version": 3
   },
   "file_extension": ".py",
   "mimetype": "text/x-python",
   "name": "python",
   "nbconvert_exporter": "python",
   "pygments_lexer": "ipython3",
   "version": "3.11.9"
  }
 },
 "nbformat": 4,
 "nbformat_minor": 2
}
